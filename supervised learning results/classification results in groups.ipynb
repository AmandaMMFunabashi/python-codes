{
 "cells": [
  {
   "cell_type": "markdown",
   "metadata": {},
   "source": [
    "#### The purpose of this program is creating two functions:\n",
    "The first one, learns with the train data and splits data in *n* groups with the same length, and applies this intervals to the test data.\n",
    "The second one plot this information.\n",
    "\n",
    "So, we can see if the behaviour of the groups is the same in both datas.\n",
    "It's useful when the application of the model is in all the data, and the accuracy is not enough in the classification problem"
   ]
  },
  {
   "cell_type": "markdown",
   "metadata": {},
   "source": [
    "### import data"
   ]
  },
  {
   "cell_type": "code",
   "execution_count": 1,
   "metadata": {
    "collapsed": true
   },
   "outputs": [],
   "source": [
    "import numpy as np\n",
    "import pandas as pd"
   ]
  },
  {
   "cell_type": "code",
   "execution_count": 48,
   "metadata": {},
   "outputs": [],
   "source": [
    "dados1 = pd.read_csv('teste1.csv',sep=';',decimal=',')\n",
    "dados2 = pd.read_csv('teste2.csv',sep=';',decimal=',')"
   ]
  },
  {
   "cell_type": "code",
   "execution_count": 49,
   "metadata": {},
   "outputs": [
    {
     "name": "stdout",
     "output_type": "stream",
     "text": [
      "    Id  prob_treino  prob_resp\n",
      "0  121          0.1          1\n",
      "1  112          0.1          1\n",
      "2   41          0.1          1\n",
      "3  173          0.1          1\n",
      "   Id  prob_teste  pred_teste\n",
      "0   1    0.641170           1\n",
      "1   2    0.546631           1\n",
      "2   3    0.239751           1\n",
      "3   4    0.869883           1\n"
     ]
    }
   ],
   "source": [
    "print(dados1.head(4))\n",
    "print(dados2.head(4))"
   ]
  },
  {
   "cell_type": "code",
   "execution_count": 51,
   "metadata": {},
   "outputs": [],
   "source": [
    "def probability_groups (n_groups, train_probs, train_preds, test_probs, test_preds ):\n",
    "    ser, bins = pd.qcut(train_probs, n_groups, retbins = True)\n",
    "    bins2 = bins.copy()\n",
    "    bins2[0] = 0\n",
    "    bins2[n_groups] = 1\n",
    "    train_table = pd.DataFrame(pd.crosstab(ser, train_preds))\n",
    "    train_table.columns = ['N_0', 'N_1']\n",
    "    train_table['total'] = train_table.N_0 + train_table.N_1\n",
    "    train_table['P_1'] = np.round(train_table['N_1'] / train_table['total'],2)\n",
    "    train_table['P_total'] = np.round((train_table['total'] / sum(train_table.total) ), 2)\n",
    "    \n",
    "    test_group = pd.cut(test_probs, bins=bins2, labels=False, include_lowest=True)\n",
    "    test_table = pd.DataFrame(pd.crosstab(test_group, test_preds))\n",
    "    test_table.columns = ['N_0', 'N_1']\n",
    "    test_table['total'] = test_table.N_0 + test_table.N_1\n",
    "    test_table['P_1'] = np.round(test_table['N_1'] / test_table['total'],2)\n",
    "    test_table['P_total'] = np.round((test_table['total'] / sum(test_table.total) ), 2)\n",
    "    \n",
    "    print 'original bins: {}' .format(bins)\n",
    "    print 'modified bins: {}' .format(bins2)\n",
    "    \n",
    "    return (train_table, test_table, test_group)"
   ]
  },
  {
   "cell_type": "code",
   "execution_count": 52,
   "metadata": {},
   "outputs": [
    {
     "name": "stdout",
     "output_type": "stream",
     "text": [
      "original bins: [ 0.0044222   0.14170149  0.29932708  0.54332782  0.71912063  0.94410692]\n",
      "modified bins: [ 0.          0.14170149  0.29932708  0.54332782  0.71912063  1.        ]\n"
     ]
    }
   ],
   "source": [
    "train_table, test_table, test_group = probability_groups(5, dados1.prob_treino, dados1.prob_resp, dados2.prob_teste, dados2.pred_teste)"
   ]
  },
  {
   "cell_type": "code",
   "execution_count": 41,
   "metadata": {},
   "outputs": [
    {
     "data": {
      "text/html": [
       "<div>\n",
       "<style>\n",
       "    .dataframe thead tr:only-child th {\n",
       "        text-align: right;\n",
       "    }\n",
       "\n",
       "    .dataframe thead th {\n",
       "        text-align: left;\n",
       "    }\n",
       "\n",
       "    .dataframe tbody tr th {\n",
       "        vertical-align: top;\n",
       "    }\n",
       "</style>\n",
       "<table border=\"1\" class=\"dataframe\">\n",
       "  <thead>\n",
       "    <tr style=\"text-align: right;\">\n",
       "      <th></th>\n",
       "      <th>N_0</th>\n",
       "      <th>N_1</th>\n",
       "      <th>total</th>\n",
       "      <th>P_1</th>\n",
       "      <th>P_total</th>\n",
       "    </tr>\n",
       "    <tr>\n",
       "      <th>prob_treino</th>\n",
       "      <th></th>\n",
       "      <th></th>\n",
       "      <th></th>\n",
       "      <th></th>\n",
       "      <th></th>\n",
       "    </tr>\n",
       "  </thead>\n",
       "  <tbody>\n",
       "    <tr>\n",
       "      <th>(0.00342, 0.142]</th>\n",
       "      <td>18</td>\n",
       "      <td>32</td>\n",
       "      <td>50</td>\n",
       "      <td>0.64</td>\n",
       "      <td>0.2</td>\n",
       "    </tr>\n",
       "    <tr>\n",
       "      <th>(0.142, 0.299]</th>\n",
       "      <td>19</td>\n",
       "      <td>31</td>\n",
       "      <td>50</td>\n",
       "      <td>0.62</td>\n",
       "      <td>0.2</td>\n",
       "    </tr>\n",
       "    <tr>\n",
       "      <th>(0.299, 0.543]</th>\n",
       "      <td>12</td>\n",
       "      <td>38</td>\n",
       "      <td>50</td>\n",
       "      <td>0.76</td>\n",
       "      <td>0.2</td>\n",
       "    </tr>\n",
       "    <tr>\n",
       "      <th>(0.543, 0.719]</th>\n",
       "      <td>15</td>\n",
       "      <td>35</td>\n",
       "      <td>50</td>\n",
       "      <td>0.70</td>\n",
       "      <td>0.2</td>\n",
       "    </tr>\n",
       "    <tr>\n",
       "      <th>(0.719, 0.944]</th>\n",
       "      <td>15</td>\n",
       "      <td>35</td>\n",
       "      <td>50</td>\n",
       "      <td>0.70</td>\n",
       "      <td>0.2</td>\n",
       "    </tr>\n",
       "  </tbody>\n",
       "</table>\n",
       "</div>"
      ],
      "text/plain": [
       "                  N_0  N_1  total   P_1  P_total\n",
       "prob_treino                                     \n",
       "(0.00342, 0.142]   18   32     50  0.64      0.2\n",
       "(0.142, 0.299]     19   31     50  0.62      0.2\n",
       "(0.299, 0.543]     12   38     50  0.76      0.2\n",
       "(0.543, 0.719]     15   35     50  0.70      0.2\n",
       "(0.719, 0.944]     15   35     50  0.70      0.2"
      ]
     },
     "execution_count": 41,
     "metadata": {},
     "output_type": "execute_result"
    }
   ],
   "source": [
    "train_table"
   ]
  },
  {
   "cell_type": "code",
   "execution_count": 42,
   "metadata": {},
   "outputs": [
    {
     "data": {
      "text/html": [
       "<div>\n",
       "<style>\n",
       "    .dataframe thead tr:only-child th {\n",
       "        text-align: right;\n",
       "    }\n",
       "\n",
       "    .dataframe thead th {\n",
       "        text-align: left;\n",
       "    }\n",
       "\n",
       "    .dataframe tbody tr th {\n",
       "        vertical-align: top;\n",
       "    }\n",
       "</style>\n",
       "<table border=\"1\" class=\"dataframe\">\n",
       "  <thead>\n",
       "    <tr style=\"text-align: right;\">\n",
       "      <th></th>\n",
       "      <th>N_0</th>\n",
       "      <th>N_1</th>\n",
       "      <th>total</th>\n",
       "      <th>P_1</th>\n",
       "      <th>P_total</th>\n",
       "    </tr>\n",
       "    <tr>\n",
       "      <th>prob_teste</th>\n",
       "      <th></th>\n",
       "      <th></th>\n",
       "      <th></th>\n",
       "      <th></th>\n",
       "      <th></th>\n",
       "    </tr>\n",
       "  </thead>\n",
       "  <tbody>\n",
       "    <tr>\n",
       "      <th>0</th>\n",
       "      <td>13</td>\n",
       "      <td>15</td>\n",
       "      <td>28</td>\n",
       "      <td>0.54</td>\n",
       "      <td>0.11</td>\n",
       "    </tr>\n",
       "    <tr>\n",
       "      <th>1</th>\n",
       "      <td>9</td>\n",
       "      <td>22</td>\n",
       "      <td>31</td>\n",
       "      <td>0.71</td>\n",
       "      <td>0.12</td>\n",
       "    </tr>\n",
       "    <tr>\n",
       "      <th>2</th>\n",
       "      <td>25</td>\n",
       "      <td>40</td>\n",
       "      <td>65</td>\n",
       "      <td>0.62</td>\n",
       "      <td>0.26</td>\n",
       "    </tr>\n",
       "    <tr>\n",
       "      <th>3</th>\n",
       "      <td>15</td>\n",
       "      <td>41</td>\n",
       "      <td>56</td>\n",
       "      <td>0.73</td>\n",
       "      <td>0.22</td>\n",
       "    </tr>\n",
       "    <tr>\n",
       "      <th>4</th>\n",
       "      <td>17</td>\n",
       "      <td>53</td>\n",
       "      <td>70</td>\n",
       "      <td>0.76</td>\n",
       "      <td>0.28</td>\n",
       "    </tr>\n",
       "  </tbody>\n",
       "</table>\n",
       "</div>"
      ],
      "text/plain": [
       "            N_0  N_1  total   P_1  P_total\n",
       "prob_teste                                \n",
       "0            13   15     28  0.54     0.11\n",
       "1             9   22     31  0.71     0.12\n",
       "2            25   40     65  0.62     0.26\n",
       "3            15   41     56  0.73     0.22\n",
       "4            17   53     70  0.76     0.28"
      ]
     },
     "execution_count": 42,
     "metadata": {},
     "output_type": "execute_result"
    }
   ],
   "source": [
    "test_table"
   ]
  },
  {
   "cell_type": "code",
   "execution_count": 46,
   "metadata": {
    "collapsed": true
   },
   "outputs": [],
   "source": [
    "import matplotlib.pyplot as plt\n",
    "plt.style.use('ggplot')\n",
    "\n",
    "def plots_prob_groups (train_table, test_table, figsize_1 = 15, figsize_2= 14, fontsize_inside= 16):\n",
    "\n",
    "    tables = [train_table, test_table]\n",
    "    fig = plt.figure(figsize=(figsize_1,figsize_2))\n",
    "    for index, table in enumerate(tables):\n",
    "        ax = fig.add_subplot(2, 1, index+1)\n",
    "        #plot\n",
    "        A = table.P_1\n",
    "        B = 1- table.P_1\n",
    "        bar_l = range(len(table.index))\n",
    "        bar_width = 0.5\n",
    "        #tick_pos = [i + (bar_width / 2) for i in bar_l]\n",
    "\n",
    "        ax1 = ax.bar(bar_l, A, width=bar_width,label=\"A\", color=\"#e87109\")\n",
    "        ax2 = ax.bar(bar_l, B, bottom = A,width=bar_width,label=\"B\", color=\"#3842f7\")\n",
    "        \n",
    "        # visual elements\n",
    "        fontsize_axis = 13\n",
    "        ax.set_xlabel(\"Groups\", fontsize=18)\n",
    "        ax.legend(['Prob_1','Prob_0'],bbox_to_anchor=(1, 0.9),fontsize=fontsize_axis)\n",
    "        plt.yticks(fontsize=fontsize_axis)\n",
    "        plt.xticks(fontsize=fontsize_axis)\n",
    "        ax.set_ylim(0,1.13)\n",
    "        i = 0\n",
    "\n",
    "        #plotting texts inside bars\n",
    "        for r1, r2 in zip(ax1, ax2):\n",
    "            h1 = np.round(r1.get_height(),decimals=2)\n",
    "            h2 = np.round(r2.get_height(),decimals=2)\n",
    "            plt.text(r1.get_x() + r1.get_width() / 2., h1 / 2., h1, ha=\"center\", va=\"center\", color=\"white\", fontsize=fontsize_inside, fontweight=\"bold\")\n",
    "            plt.text(r2.get_x() + r2.get_width() / 2., h1 + h2 /2., h2, ha=\"center\", va=\"center\", color=\"white\", fontsize=fontsize_inside, fontweight=\"bold\")\n",
    "            plt.text(r1.get_x() + r1.get_width() / 2, h1+h2 +0.05, '{:.0%}'.format(np.round(table.P_total[i],2)), ha=\"center\", va=\"center\", color=\"gray\", fontsize=13)\n",
    "            i += 1\n",
    "\n",
    "    plt.subplots_adjust(wspace=0.2, hspace=0.2)\n",
    "\n",
    "    plt.show()\n",
    "        \n",
    "       "
   ]
  },
  {
   "cell_type": "code",
   "execution_count": 47,
   "metadata": {},
   "outputs": [
    {
     "data": {
      "image/png": "[encoded data removed]",
      "text/plain": [
       "<matplotlib.figure.Figure at 0xb381f28>"
      ]
     },
     "metadata": {},
     "output_type": "display_data"
    }
   ],
   "source": [
    "plots_prob_groups (train_table, test_table)"
   ]
  },
  {
   "cell_type": "code",
   "execution_count": null,
   "metadata": {
    "collapsed": true
   },
   "outputs": [],
   "source": []
  }
 ],
 "metadata": {
  "kernelspec": {
   "display_name": "Python 2",
   "language": "python",
   "name": "python2"
  },
  "language_info": {
   "codemirror_mode": {
    "name": "ipython",
    "version": 2
   },
   "file_extension": ".py",
   "mimetype": "text/x-python",
   "name": "python",
   "nbconvert_exporter": "python",
   "pygments_lexer": "ipython2",
   "version": "2.7.13"
  }
 },
 "nbformat": 4,
 "nbformat_minor": 2
}
