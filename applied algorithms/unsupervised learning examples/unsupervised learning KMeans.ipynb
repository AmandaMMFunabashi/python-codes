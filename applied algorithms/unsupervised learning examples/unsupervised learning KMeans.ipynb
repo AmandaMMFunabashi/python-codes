{
 "cells": [
  {
   "cell_type": "markdown",
   "metadata": {},
   "source": [
    "## Unsupervised learning"
   ]
  },
  {
   "cell_type": "code",
   "execution_count": 43,
   "metadata": {
    "collapsed": true
   },
   "outputs": [],
   "source": [
    "import pandas as pd\n",
    "import numpy as np\n",
    "\n",
    "from sklearn.cluster import KMeans, DBSCAN, AgglomerativeClustering\n",
    "from sklearn.mixture import GaussianMixture\n",
    "from sklearn.metrics import silhouette_score, silhouette_samples\n",
    "from scipy.spatial.distance import cdist, pdist\n",
    "from scipy.cluster.hierarchy import dendrogram, linkage\n",
    "from sklearn.decomposition import PCA\n",
    "import matplotlib.pyplot as plt\n",
    "from sklearn.metrics.pairwise import euclidean_distances\n",
    "from sklearn.preprocessing import StandardScaler, MinMaxScaler\n"
   ]
  },
  {
   "cell_type": "markdown",
   "metadata": {},
   "source": [
    "### Exemplos de informações calculadas manualmente - importantes para algumas métricas de métodos diferentes de k-means"
   ]
  },
  {
   "cell_type": "code",
   "execution_count": 2,
   "metadata": {},
   "outputs": [
    {
     "data": {
      "text/html": [
       "<div>\n",
       "<style>\n",
       "    .dataframe thead tr:only-child th {\n",
       "        text-align: right;\n",
       "    }\n",
       "\n",
       "    .dataframe thead th {\n",
       "        text-align: left;\n",
       "    }\n",
       "\n",
       "    .dataframe tbody tr th {\n",
       "        vertical-align: top;\n",
       "    }\n",
       "</style>\n",
       "<table border=\"1\" class=\"dataframe\">\n",
       "  <thead>\n",
       "    <tr style=\"text-align: right;\">\n",
       "      <th></th>\n",
       "      <th>x1</th>\n",
       "      <th>x2</th>\n",
       "    </tr>\n",
       "  </thead>\n",
       "  <tbody>\n",
       "    <tr>\n",
       "      <th>0</th>\n",
       "      <td>1.0</td>\n",
       "      <td>1.0</td>\n",
       "    </tr>\n",
       "    <tr>\n",
       "      <th>1</th>\n",
       "      <td>1.5</td>\n",
       "      <td>2.0</td>\n",
       "    </tr>\n",
       "    <tr>\n",
       "      <th>2</th>\n",
       "      <td>3.0</td>\n",
       "      <td>4.0</td>\n",
       "    </tr>\n",
       "    <tr>\n",
       "      <th>3</th>\n",
       "      <td>5.0</td>\n",
       "      <td>7.0</td>\n",
       "    </tr>\n",
       "    <tr>\n",
       "      <th>4</th>\n",
       "      <td>3.5</td>\n",
       "      <td>5.0</td>\n",
       "    </tr>\n",
       "    <tr>\n",
       "      <th>5</th>\n",
       "      <td>4.5</td>\n",
       "      <td>5.0</td>\n",
       "    </tr>\n",
       "    <tr>\n",
       "      <th>6</th>\n",
       "      <td>3.5</td>\n",
       "      <td>4.5</td>\n",
       "    </tr>\n",
       "  </tbody>\n",
       "</table>\n",
       "</div>"
      ],
      "text/plain": [
       "    x1   x2\n",
       "0  1.0  1.0\n",
       "1  1.5  2.0\n",
       "2  3.0  4.0\n",
       "3  5.0  7.0\n",
       "4  3.5  5.0\n",
       "5  4.5  5.0\n",
       "6  3.5  4.5"
      ]
     },
     "execution_count": 2,
     "metadata": {},
     "output_type": "execute_result"
    }
   ],
   "source": [
    "df = {\n",
    "    'x1': [1.0,1.5,3.0,5.0,3.5,4.5,3.5],\n",
    "    'x2': [1.0,2.0,4.0,7.0,5.0,5.0,4.5]\n",
    "}\n",
    "df=pd.DataFrame(df)\n",
    "df"
   ]
  },
  {
   "cell_type": "markdown",
   "metadata": {},
   "source": [
    "#### Ajuste do modelo com algumas informações prontas"
   ]
  },
  {
   "cell_type": "code",
   "execution_count": 3,
   "metadata": {},
   "outputs": [
    {
     "name": "stdout",
     "output_type": "stream",
     "text": [
      "Centroides:  [[ 1.25        1.5       ]\n",
      " [ 4.75        6.        ]\n",
      " [ 3.33333333  4.5       ]]\n",
      "\n",
      "Inertia ou WCSS:  3.41666666667\n",
      "\n",
      "Clusters preditos:  [0 0 2 1 2 1 2]\n"
     ]
    }
   ],
   "source": [
    "n_clusters = 3\n",
    "clf = KMeans(n_clusters , init = np.array([[1.0, 1.0], [5.0,7.0],[2,3]], np.float64), n_init = 1)\n",
    "\n",
    "clf.fit(df)\n",
    "clusters_labels = clf.predict(df)\n",
    "print 'Centroides: ', clf.cluster_centers_\n",
    "print '\\nInertia ou WCSS: ', clf.inertia_\n",
    "print '\\nClusters preditos: ' ,clusters_labels"
   ]
  },
  {
   "cell_type": "markdown",
   "metadata": {},
   "source": [
    "#### Cálculo centroides na mão"
   ]
  },
  {
   "cell_type": "code",
   "execution_count": 6,
   "metadata": {},
   "outputs": [
    {
     "name": "stdout",
     "output_type": "stream",
     "text": [
      "             x1   x2\n",
      "label               \n",
      "0      1.250000  1.5\n",
      "1      4.750000  6.0\n",
      "2      3.333333  4.5\n",
      "\n",
      "\n",
      "    x1   x2  label\n",
      "0  1.0  1.0      0\n",
      "1  1.5  2.0      0\n",
      "2  3.0  4.0      2\n",
      "3  5.0  7.0      1\n",
      "4  3.5  5.0      2\n",
      "5  4.5  5.0      1\n",
      "6  3.5  4.5      2\n"
     ]
    }
   ],
   "source": [
    "df_total = pd.concat([df, pd.DataFrame(clusters_labels, columns = ['label'])], axis = 1)\n",
    "centroides_m = df_total.groupby(by = ['label']).mean()\n",
    "print centroides_m\n",
    "print '\\n'\n",
    "print df_total"
   ]
  },
  {
   "cell_type": "markdown",
   "metadata": {},
   "source": [
    "#### cálculo inertia ou wmcc na mão"
   ]
  },
  {
   "cell_type": "code",
   "execution_count": 7,
   "metadata": {},
   "outputs": [
    {
     "data": {
      "text/plain": [
       "3.4166666666666643"
      ]
     },
     "execution_count": 7,
     "metadata": {},
     "output_type": "execute_result"
    }
   ],
   "source": [
    "a = []\n",
    "first=True\n",
    "for k in range(n_clusters):\n",
    "    df_total2 = df_total[df_total.label == k]\n",
    "    aux = euclidean_distances(df_total2.iloc[:,0:(df_total2.shape[1]-1)], centroides_m[centroides_m.index == k])**2\n",
    "    aux = pd.DataFrame(aux)\n",
    "    if first == True:\n",
    "        a=pd.DataFrame(aux)\n",
    "        first = False\n",
    "    else:\n",
    "        a = pd.concat([a, aux], axis = 0)\n",
    "        \n",
    "    #a.append(aux)\n",
    "    \n",
    "wcss_m = np.float(a.sum())\n",
    "wcss_m"
   ]
  },
  {
   "cell_type": "markdown",
   "metadata": {},
   "source": [
    "#### silhueta"
   ]
  },
  {
   "cell_type": "code",
   "execution_count": 8,
   "metadata": {},
   "outputs": [
    {
     "data": {
      "text/plain": [
       "0.46046600146599725"
      ]
     },
     "execution_count": 8,
     "metadata": {},
     "output_type": "execute_result"
    }
   ],
   "source": [
    "silhueta = silhouette_score(df,  clusters_labels)\n",
    "silhueta"
   ]
  },
  {
   "cell_type": "markdown",
   "metadata": {},
   "source": [
    "#### total sum-of-squares"
   ]
  },
  {
   "cell_type": "code",
   "execution_count": 11,
   "metadata": {},
   "outputs": [
    {
     "name": "stdout",
     "output_type": "stream",
     "text": [
      "TSS: 13.2135569382\n",
      "BCSS: 9.79689027155\n"
     ]
    }
   ],
   "source": [
    "media_geral = df.mean()\n",
    "media_geral = media_geral.values.reshape(1,-1)\n",
    "media_geral\n",
    "tss = euclidean_distances(df, media_geral)\n",
    "tss = pd.DataFrame(tss)\n",
    "tss_m = np.float(tss.sum())\n",
    "tss_m\n",
    "bcss_m = tss_m - wcss_m\n",
    "print 'TSS:', tss_m\n",
    "print 'BCSS:', bcss_m"
   ]
  },
  {
   "cell_type": "markdown",
   "metadata": {
    "collapsed": true
   },
   "source": [
    "#### calcular distâncias minima e máxima entre pontos de clusters diferentes"
   ]
  },
  {
   "cell_type": "code",
   "execution_count": 12,
   "metadata": {},
   "outputs": [
    {
     "data": {
      "text/html": [
       "<div>\n",
       "<style>\n",
       "    .dataframe thead tr:only-child th {\n",
       "        text-align: right;\n",
       "    }\n",
       "\n",
       "    .dataframe thead th {\n",
       "        text-align: left;\n",
       "    }\n",
       "\n",
       "    .dataframe tbody tr th {\n",
       "        vertical-align: top;\n",
       "    }\n",
       "</style>\n",
       "<table border=\"1\" class=\"dataframe\">\n",
       "  <thead>\n",
       "    <tr style=\"text-align: right;\">\n",
       "      <th></th>\n",
       "      <th>x1</th>\n",
       "      <th>x2</th>\n",
       "      <th>label</th>\n",
       "    </tr>\n",
       "  </thead>\n",
       "  <tbody>\n",
       "    <tr>\n",
       "      <th>0</th>\n",
       "      <td>1.0</td>\n",
       "      <td>1.0</td>\n",
       "      <td>0</td>\n",
       "    </tr>\n",
       "    <tr>\n",
       "      <th>1</th>\n",
       "      <td>1.5</td>\n",
       "      <td>2.0</td>\n",
       "      <td>0</td>\n",
       "    </tr>\n",
       "    <tr>\n",
       "      <th>2</th>\n",
       "      <td>3.0</td>\n",
       "      <td>4.0</td>\n",
       "      <td>2</td>\n",
       "    </tr>\n",
       "    <tr>\n",
       "      <th>3</th>\n",
       "      <td>5.0</td>\n",
       "      <td>7.0</td>\n",
       "      <td>1</td>\n",
       "    </tr>\n",
       "    <tr>\n",
       "      <th>4</th>\n",
       "      <td>3.5</td>\n",
       "      <td>5.0</td>\n",
       "      <td>2</td>\n",
       "    </tr>\n",
       "    <tr>\n",
       "      <th>5</th>\n",
       "      <td>4.5</td>\n",
       "      <td>5.0</td>\n",
       "      <td>1</td>\n",
       "    </tr>\n",
       "    <tr>\n",
       "      <th>6</th>\n",
       "      <td>3.5</td>\n",
       "      <td>4.5</td>\n",
       "      <td>2</td>\n",
       "    </tr>\n",
       "  </tbody>\n",
       "</table>\n",
       "</div>"
      ],
      "text/plain": [
       "    x1   x2  label\n",
       "0  1.0  1.0      0\n",
       "1  1.5  2.0      0\n",
       "2  3.0  4.0      2\n",
       "3  5.0  7.0      1\n",
       "4  3.5  5.0      2\n",
       "5  4.5  5.0      1\n",
       "6  3.5  4.5      2"
      ]
     },
     "execution_count": 12,
     "metadata": {},
     "output_type": "execute_result"
    }
   ],
   "source": [
    "df_total"
   ]
  },
  {
   "cell_type": "code",
   "execution_count": 22,
   "metadata": {},
   "outputs": [],
   "source": [
    "df0 = df_total[df_total.label==0].iloc[:,0:2]\n",
    "df1 = df_total[df_total.label==1].iloc[:,0:2]\n",
    "df2 = df_total[df_total.label==2].iloc[:,0:2]"
   ]
  },
  {
   "cell_type": "code",
   "execution_count": 30,
   "metadata": {},
   "outputs": [],
   "source": [
    "dpairs_01 = euclidean_distances(df0,df1)\n",
    "dpairs_02 = euclidean_distances(df0,df2)\n",
    "dpairs_12 = euclidean_distances(df1,df2)"
   ]
  },
  {
   "cell_type": "markdown",
   "metadata": {},
   "source": [
    "#### ---------------------------------------------------------------------------------------------------------------------------------------------------------------\n",
    "#### ---------------------------------------------------------------------------------------------------------------------------------------------------------------\n"
   ]
  },
  {
   "cell_type": "code",
   "execution_count": 42,
   "metadata": {
    "collapsed": true
   },
   "outputs": [],
   "source": [
    "def information_data (data):\n",
    "       \n",
    "    len_array = []\n",
    "    for var in data.columns:\n",
    "        current_len  = len(data[var].unique())\n",
    "        len_array.append(current_len)\n",
    "\n",
    "    missing = pd.DataFrame(np.array(data.isnull().sum()), columns = ['missing'])\n",
    "    p_missing = missing / data.shape[0]\n",
    "    types = pd.DataFrame( np.array(data.dtypes), columns=['type'])\n",
    "\n",
    "    qtd = pd.concat([pd.DataFrame(data.columns), types.type, missing.missing, pd.DataFrame(p_missing),  pd.DataFrame(len_array)], axis = 1)\n",
    "    qtd.columns = ['var', 'type', '# missing','% missing', '# unique values']\n",
    "    \n",
    "    print 'Data with', data.shape[0], 'samples and ', data.shape[1], 'features'\n",
    "    print '\\n'\n",
    "    print 'Data with', qtd[qtd['# missing'] > 0].shape[0], 'columns with missings'\n",
    "    print '\\n'\n",
    "    \n",
    "    return qtd\n",
    "\n",
    "def fit_transform_with_function (data, function, sklearn):\n",
    "    scaler = function\n",
    "    \n",
    "    if sklearn == 'True':\n",
    "        scaler = function\n",
    "        data_transformed = scaler.fit_transform(data)\n",
    "        data_transformed2 = pd.DataFrame(data_transformed, columns = data.columns, index = data.index)\n",
    "        \n",
    "    else:\n",
    "        data_transformed2 = data.apply(function)\n",
    "        \n",
    "    return scaler, data_transformed2\n",
    "\n",
    "#X_train.apply(standard_scaler_manual)\n",
    "\n",
    "\n",
    "def transform_with_function (data, scaler, sklearn):\n",
    "    \n",
    "    if sklearn == 'True':\n",
    "        data_transformed = scaler.transform(data)\n",
    "        data_transformed2 = pd.DataFrame(data_transformed, columns = data.columns, index = data.index)\n",
    "    \n",
    "    else:\n",
    "        data_transformed2 = data.apply(scaler)\n",
    "    \n",
    "        \n",
    "    \n",
    "    return data_transformed2"
   ]
  },
  {
   "cell_type": "code",
   "execution_count": 32,
   "metadata": {},
   "outputs": [
    {
     "data": {
      "text/html": [
       "<div>\n",
       "<style>\n",
       "    .dataframe thead tr:only-child th {\n",
       "        text-align: right;\n",
       "    }\n",
       "\n",
       "    .dataframe thead th {\n",
       "        text-align: left;\n",
       "    }\n",
       "\n",
       "    .dataframe tbody tr th {\n",
       "        vertical-align: top;\n",
       "    }\n",
       "</style>\n",
       "<table border=\"1\" class=\"dataframe\">\n",
       "  <thead>\n",
       "    <tr style=\"text-align: right;\">\n",
       "      <th></th>\n",
       "      <th>y</th>\n",
       "      <th>x1</th>\n",
       "      <th>x2</th>\n",
       "      <th>x3</th>\n",
       "      <th>x4</th>\n",
       "      <th>x5</th>\n",
       "      <th>x6</th>\n",
       "      <th>x7</th>\n",
       "      <th>x8</th>\n",
       "      <th>x9</th>\n",
       "    </tr>\n",
       "  </thead>\n",
       "  <tbody>\n",
       "    <tr>\n",
       "      <th>1</th>\n",
       "      <td>3</td>\n",
       "      <td>-0.560475646552213</td>\n",
       "      <td>-0.995798724851333</td>\n",
       "      <td>-0.511603722189581</td>\n",
       "      <td>-0.150307477864079</td>\n",
       "      <td>0.19654977656002</td>\n",
       "      <td>1</td>\n",
       "      <td>0</td>\n",
       "      <td>0</td>\n",
       "      <td>0</td>\n",
       "    </tr>\n",
       "    <tr>\n",
       "      <th>2</th>\n",
       "      <td>3</td>\n",
       "      <td>-0.23017748948328</td>\n",
       "      <td>-1.03995504376619</td>\n",
       "      <td>0.236937879127631</td>\n",
       "      <td>-0.327757132786462</td>\n",
       "      <td>0.650113188667264</td>\n",
       "      <td>1</td>\n",
       "      <td>0</td>\n",
       "      <td>0</td>\n",
       "      <td>0</td>\n",
       "    </tr>\n",
       "    <tr>\n",
       "      <th>3</th>\n",
       "      <td>2</td>\n",
       "      <td>1.55870831414912</td>\n",
       "      <td>-0.0179802405766626</td>\n",
       "      <td>-0.541589171621698</td>\n",
       "      <td>-1.44816529018399</td>\n",
       "      <td>0.671004187901994</td>\n",
       "      <td>0</td>\n",
       "      <td>0</td>\n",
       "      <td>1</td>\n",
       "      <td>0</td>\n",
       "    </tr>\n",
       "    <tr>\n",
       "      <th>4</th>\n",
       "      <td>3</td>\n",
       "      <td>0.070508391424576</td>\n",
       "      <td>-0.132175132856735</td>\n",
       "      <td>1.21922764704307</td>\n",
       "      <td>-0.697284584551622</td>\n",
       "      <td>-1.28415776513223</td>\n",
       "      <td>1</td>\n",
       "      <td>1</td>\n",
       "      <td>1</td>\n",
       "      <td>0</td>\n",
       "    </tr>\n",
       "    <tr>\n",
       "      <th>5</th>\n",
       "      <td>3</td>\n",
       "      <td>0.129287735160946</td>\n",
       "      <td>-2.54934277475043</td>\n",
       "      <td>0.174135875106149</td>\n",
       "      <td>2.59849023212988</td>\n",
       "      <td>-2.02610958278953</td>\n",
       "      <td>1</td>\n",
       "      <td>0</td>\n",
       "      <td>0</td>\n",
       "      <td>1</td>\n",
       "    </tr>\n",
       "  </tbody>\n",
       "</table>\n",
       "</div>"
      ],
      "text/plain": [
       "   y                  x1                   x2                  x3  \\\n",
       "1  3  -0.560475646552213   -0.995798724851333  -0.511603722189581   \n",
       "2  3   -0.23017748948328    -1.03995504376619   0.236937879127631   \n",
       "3  2    1.55870831414912  -0.0179802405766626  -0.541589171621698   \n",
       "4  3   0.070508391424576   -0.132175132856735    1.21922764704307   \n",
       "5  3   0.129287735160946    -2.54934277475043   0.174135875106149   \n",
       "\n",
       "                   x4                 x5  x6  x7  x8  x9  \n",
       "1  -0.150307477864079   0.19654977656002   1   0   0   0  \n",
       "2  -0.327757132786462  0.650113188667264   1   0   0   0  \n",
       "3   -1.44816529018399  0.671004187901994   0   0   1   0  \n",
       "4  -0.697284584551622  -1.28415776513223   1   1   1   0  \n",
       "5    2.59849023212988  -2.02610958278953   1   0   0   1  "
      ]
     },
     "execution_count": 32,
     "metadata": {},
     "output_type": "execute_result"
    }
   ],
   "source": [
    "data = pd.read_csv('data_cluster.csv', sep=';', decimal = ',')\n",
    "data.head()"
   ]
  },
  {
   "cell_type": "code",
   "execution_count": 33,
   "metadata": {},
   "outputs": [
    {
     "name": "stdout",
     "output_type": "stream",
     "text": [
      "Data with 1000 samples and  10 features\n",
      "\n",
      "\n",
      "Data with 0 columns with missings\n",
      "\n",
      "\n"
     ]
    },
    {
     "data": {
      "text/html": [
       "<div>\n",
       "<style>\n",
       "    .dataframe thead tr:only-child th {\n",
       "        text-align: right;\n",
       "    }\n",
       "\n",
       "    .dataframe thead th {\n",
       "        text-align: left;\n",
       "    }\n",
       "\n",
       "    .dataframe tbody tr th {\n",
       "        vertical-align: top;\n",
       "    }\n",
       "</style>\n",
       "<table border=\"1\" class=\"dataframe\">\n",
       "  <thead>\n",
       "    <tr style=\"text-align: right;\">\n",
       "      <th></th>\n",
       "      <th>var</th>\n",
       "      <th>type</th>\n",
       "      <th># missing</th>\n",
       "      <th>% missing</th>\n",
       "      <th># unique values</th>\n",
       "    </tr>\n",
       "  </thead>\n",
       "  <tbody>\n",
       "    <tr>\n",
       "      <th>0</th>\n",
       "      <td>y</td>\n",
       "      <td>int64</td>\n",
       "      <td>0</td>\n",
       "      <td>0.0</td>\n",
       "      <td>3</td>\n",
       "    </tr>\n",
       "    <tr>\n",
       "      <th>1</th>\n",
       "      <td>x1</td>\n",
       "      <td>object</td>\n",
       "      <td>0</td>\n",
       "      <td>0.0</td>\n",
       "      <td>1000</td>\n",
       "    </tr>\n",
       "    <tr>\n",
       "      <th>2</th>\n",
       "      <td>x2</td>\n",
       "      <td>object</td>\n",
       "      <td>0</td>\n",
       "      <td>0.0</td>\n",
       "      <td>1000</td>\n",
       "    </tr>\n",
       "    <tr>\n",
       "      <th>3</th>\n",
       "      <td>x3</td>\n",
       "      <td>object</td>\n",
       "      <td>0</td>\n",
       "      <td>0.0</td>\n",
       "      <td>1000</td>\n",
       "    </tr>\n",
       "    <tr>\n",
       "      <th>4</th>\n",
       "      <td>x4</td>\n",
       "      <td>object</td>\n",
       "      <td>0</td>\n",
       "      <td>0.0</td>\n",
       "      <td>1000</td>\n",
       "    </tr>\n",
       "    <tr>\n",
       "      <th>5</th>\n",
       "      <td>x5</td>\n",
       "      <td>object</td>\n",
       "      <td>0</td>\n",
       "      <td>0.0</td>\n",
       "      <td>1000</td>\n",
       "    </tr>\n",
       "    <tr>\n",
       "      <th>6</th>\n",
       "      <td>x6</td>\n",
       "      <td>int64</td>\n",
       "      <td>0</td>\n",
       "      <td>0.0</td>\n",
       "      <td>2</td>\n",
       "    </tr>\n",
       "    <tr>\n",
       "      <th>7</th>\n",
       "      <td>x7</td>\n",
       "      <td>int64</td>\n",
       "      <td>0</td>\n",
       "      <td>0.0</td>\n",
       "      <td>2</td>\n",
       "    </tr>\n",
       "    <tr>\n",
       "      <th>8</th>\n",
       "      <td>x8</td>\n",
       "      <td>int64</td>\n",
       "      <td>0</td>\n",
       "      <td>0.0</td>\n",
       "      <td>2</td>\n",
       "    </tr>\n",
       "    <tr>\n",
       "      <th>9</th>\n",
       "      <td>x9</td>\n",
       "      <td>int64</td>\n",
       "      <td>0</td>\n",
       "      <td>0.0</td>\n",
       "      <td>2</td>\n",
       "    </tr>\n",
       "  </tbody>\n",
       "</table>\n",
       "</div>"
      ],
      "text/plain": [
       "  var    type  # missing  % missing  # unique values\n",
       "0   y   int64          0        0.0                3\n",
       "1  x1  object          0        0.0             1000\n",
       "2  x2  object          0        0.0             1000\n",
       "3  x3  object          0        0.0             1000\n",
       "4  x4  object          0        0.0             1000\n",
       "5  x5  object          0        0.0             1000\n",
       "6  x6   int64          0        0.0                2\n",
       "7  x7   int64          0        0.0                2\n",
       "8  x8   int64          0        0.0                2\n",
       "9  x9   int64          0        0.0                2"
      ]
     },
     "execution_count": 33,
     "metadata": {},
     "output_type": "execute_result"
    }
   ],
   "source": [
    "information_data(data)"
   ]
  },
  {
   "cell_type": "markdown",
   "metadata": {
    "collapsed": true
   },
   "source": [
    "### K-MEANS"
   ]
  },
  {
   "cell_type": "code",
   "execution_count": 34,
   "metadata": {
    "collapsed": true
   },
   "outputs": [],
   "source": [
    "data2 = data.drop(['y'], axis = 1)\n"
   ]
  },
  {
   "cell_type": "code",
   "execution_count": 35,
   "metadata": {
    "collapsed": true
   },
   "outputs": [],
   "source": [
    "X = data2.iloc[0:900,:]\n",
    "X_pred = data2.iloc[900:1000,:]\n",
    "Y = data.iloc[0:900, 0]\n",
    "Y_pred = data.iloc[900:1000, 0]"
   ]
  },
  {
   "cell_type": "code",
   "execution_count": 36,
   "metadata": {},
   "outputs": [
    {
     "data": {
      "text/plain": [
       "(100L,)"
      ]
     },
     "execution_count": 36,
     "metadata": {},
     "output_type": "execute_result"
    }
   ],
   "source": [
    "Y_pred.shape"
   ]
  },
  {
   "cell_type": "code",
   "execution_count": 37,
   "metadata": {
    "collapsed": true
   },
   "outputs": [],
   "source": [
    "array_init = np.array([[-0.04,2,0.4,0.02,0.04,0.3,0.05,0.04,0.9],\n",
    "              [0.04,2,0.4,1,0.04,0.03,0.05,0.04,0.19],\n",
    "              [-0.4,2,4,0.02,0.04,0.33,0.15,0.24,0.39]], np.float64)"
   ]
  },
  {
   "cell_type": "code",
   "execution_count": 38,
   "metadata": {
    "collapsed": true
   },
   "outputs": [],
   "source": [
    "n_clusters=3\n",
    "kmeans = KMeans(n_clusters=3, random_state=10,init = 'k-means++', max_iter=300,verbose=0)\n",
    "#escolhendo pontos iniciais\n",
    "#kmeans = KMeans(n_clusters=3, random_state=10, init = array_init, n_init = 1)"
   ]
  },
  {
   "cell_type": "code",
   "execution_count": 39,
   "metadata": {},
   "outputs": [
    {
     "data": {
      "text/plain": [
       "3902.2640493890949"
      ]
     },
     "execution_count": 39,
     "metadata": {},
     "output_type": "execute_result"
    }
   ],
   "source": [
    "cluster_labels = kmeans.fit_predict(X)\n",
    "centers = kmeans.cluster_centers_ \n",
    "inertia = kmeans.inertia_\n",
    "inertia"
   ]
  },
  {
   "cell_type": "code",
   "execution_count": 40,
   "metadata": {},
   "outputs": [
    {
     "data": {
      "text/plain": [
       "0.11086715677595291"
      ]
     },
     "execution_count": 40,
     "metadata": {},
     "output_type": "execute_result"
    }
   ],
   "source": [
    "silhueta = silhouette_score(X, cluster_labels)\n",
    "silhueta"
   ]
  },
  {
   "cell_type": "markdown",
   "metadata": {},
   "source": [
    "### Elbow Method"
   ]
  },
  {
   "cell_type": "code",
   "execution_count": 12,
   "metadata": {},
   "outputs": [
    {
     "data": {
      "image/png": "[encoded data removed]",
      "text/plain": [
       "<matplotlib.figure.Figure at 0x8336dd8>"
      ]
     },
     "metadata": {},
     "output_type": "display_data"
    }
   ],
   "source": [
    "Nc = range(1, 20)\n",
    "kmeans = [KMeans(n_clusters=i) for i in Nc]\n",
    "kmeans\n",
    "\n",
    "score = [kmeans[i].fit(X).inertia_ for i in range(len(kmeans))]\n",
    "score\n",
    "plt.plot(Nc,score)\n",
    "plt.xlabel('Number of Clusters')\n",
    "plt.ylabel('Within Cluster Sum of Squares')\n",
    "plt.title('Elbow Curve')\n",
    "plt.show()"
   ]
  },
  {
   "cell_type": "markdown",
   "metadata": {},
   "source": [
    "#### predicao"
   ]
  },
  {
   "cell_type": "code",
   "execution_count": 13,
   "metadata": {},
   "outputs": [
    {
     "data": {
      "text/plain": [
       "array([0, 2, 0, 0, 2, 1, 0, 1, 2, 2, 0, 1, 0, 1, 2, 0, 0, 1, 2, 0, 1, 0, 1,\n",
       "       0, 1, 0, 1, 1, 2, 2, 1, 0, 2, 1, 2, 2, 1, 0, 2, 1, 0, 1, 1, 1, 1, 0,\n",
       "       1, 1, 1, 0, 0, 1, 2, 1, 0, 1, 2, 2, 1, 0, 1, 0, 0, 0, 2, 2, 2, 1, 1,\n",
       "       2, 0, 1, 1, 0, 1, 1, 0, 1, 1, 0, 2, 0, 1, 1, 2, 1, 2, 0, 1, 0, 2, 0,\n",
       "       2, 1, 2, 2, 0, 1, 0, 1])"
      ]
     },
     "execution_count": 13,
     "metadata": {},
     "output_type": "execute_result"
    }
   ],
   "source": [
    "pred_cluster = clusterer.predict(X_pred)\n",
    "pred_cluster"
   ]
  },
  {
   "cell_type": "markdown",
   "metadata": {},
   "source": [
    "#### Função para testar varios k diferentes"
   ]
  },
  {
   "cell_type": "code",
   "execution_count": 41,
   "metadata": {},
   "outputs": [
    {
     "data": {
      "image/png": "[encoded data removed]",
      "text/plain": [
       "<matplotlib.figure.Figure at 0x81111d0>"
      ]
     },
     "metadata": {},
     "output_type": "display_data"
    },
    {
     "data": {
      "text/html": [
       "<div>\n",
       "<style>\n",
       "    .dataframe thead tr:only-child th {\n",
       "        text-align: right;\n",
       "    }\n",
       "\n",
       "    .dataframe thead th {\n",
       "        text-align: left;\n",
       "    }\n",
       "\n",
       "    .dataframe tbody tr th {\n",
       "        vertical-align: top;\n",
       "    }\n",
       "</style>\n",
       "<table border=\"1\" class=\"dataframe\">\n",
       "  <thead>\n",
       "    <tr style=\"text-align: right;\">\n",
       "      <th></th>\n",
       "      <th>score_wss</th>\n",
       "      <th>silhueta</th>\n",
       "    </tr>\n",
       "  </thead>\n",
       "  <tbody>\n",
       "    <tr>\n",
       "      <th>2</th>\n",
       "      <td>4295.1</td>\n",
       "      <td>0.1245</td>\n",
       "    </tr>\n",
       "    <tr>\n",
       "      <th>3</th>\n",
       "      <td>3902.1</td>\n",
       "      <td>0.1146</td>\n",
       "    </tr>\n",
       "    <tr>\n",
       "      <th>4</th>\n",
       "      <td>3590.8</td>\n",
       "      <td>0.1139</td>\n",
       "    </tr>\n",
       "    <tr>\n",
       "      <th>5</th>\n",
       "      <td>3351.1</td>\n",
       "      <td>0.1142</td>\n",
       "    </tr>\n",
       "    <tr>\n",
       "      <th>6</th>\n",
       "      <td>3158.4</td>\n",
       "      <td>0.1202</td>\n",
       "    </tr>\n",
       "    <tr>\n",
       "      <th>7</th>\n",
       "      <td>3019.5</td>\n",
       "      <td>0.1141</td>\n",
       "    </tr>\n",
       "    <tr>\n",
       "      <th>8</th>\n",
       "      <td>2881.6</td>\n",
       "      <td>0.1173</td>\n",
       "    </tr>\n",
       "    <tr>\n",
       "      <th>9</th>\n",
       "      <td>2788.1</td>\n",
       "      <td>0.1131</td>\n",
       "    </tr>\n",
       "  </tbody>\n",
       "</table>\n",
       "</div>"
      ],
      "text/plain": [
       "   score_wss  silhueta\n",
       "2     4295.1    0.1245\n",
       "3     3902.1    0.1146\n",
       "4     3590.8    0.1139\n",
       "5     3351.1    0.1142\n",
       "6     3158.4    0.1202\n",
       "7     3019.5    0.1141\n",
       "8     2881.6    0.1173\n",
       "9     2788.1    0.1131"
      ]
     },
     "execution_count": 41,
     "metadata": {},
     "output_type": "execute_result"
    }
   ],
   "source": [
    "k_values = range(2,10)\n",
    "first=True\n",
    "for k in k_values:\n",
    "    kmeans = KMeans(n_clusters=k)\n",
    "    cluster_labels = kmeans.fit_predict(X)\n",
    "    score_wss = round(kmeans.inertia_ ,1)\n",
    "    silhueta = round(silhouette_score(X, cluster_labels),4)\n",
    "    #plt.plot(Nc,score)\n",
    "    #plt.xlabel('Number of Clusters')\n",
    "    #plt.ylabel('Within Cluster Sum of Squares')\n",
    "    #plt.title('Elbow Curve')\n",
    "    #plt.show()\n",
    "    resultados_aux = {\n",
    "        'score_wss': score_wss,\n",
    "        'silhueta': silhueta\n",
    "    }\n",
    "    resultados_aux = pd.DataFrame(resultados_aux, index = [k])\n",
    "    if first == True:\n",
    "        resultados_final = resultados_aux\n",
    "        first = False\n",
    "    else:\n",
    "        resultados_final = pd.concat([resultados_final, resultados_aux],axis =0)\n",
    "        \n",
    "\n",
    "plt.plot(resultados_final.index,resultados_final.score_wss)\n",
    "plt.xlabel('Number of Clusters')\n",
    "plt.ylabel('Within Cluster Sum of Squares')\n",
    "plt.title('Elbow Curve')\n",
    "plt.show()\n",
    "\n",
    "resultados_final"
   ]
  },
  {
   "cell_type": "markdown",
   "metadata": {},
   "source": [
    "### Aplicação de PCA na base iris - com visualização "
   ]
  },
  {
   "cell_type": "code",
   "execution_count": 44,
   "metadata": {
    "collapsed": true
   },
   "outputs": [],
   "source": [
    "from sklearn.datasets import load_iris"
   ]
  },
  {
   "cell_type": "code",
   "execution_count": 45,
   "metadata": {},
   "outputs": [
    {
     "name": "stdout",
     "output_type": "stream",
     "text": [
      "Data with 150 samples and  5 features\n",
      "\n",
      "\n",
      "Data with 0 columns with missings\n",
      "\n",
      "\n",
      "                 var     type  # missing  % missing  # unique values\n",
      "0  sepal length (cm)  float64          0        0.0               35\n",
      "1   sepal width (cm)  float64          0        0.0               23\n",
      "2  petal length (cm)  float64          0        0.0               43\n",
      "3   petal width (cm)  float64          0        0.0               22\n",
      "4             target    int32          0        0.0                3\n"
     ]
    },
    {
     "data": {
      "text/html": [
       "<div>\n",
       "<style>\n",
       "    .dataframe thead tr:only-child th {\n",
       "        text-align: right;\n",
       "    }\n",
       "\n",
       "    .dataframe thead th {\n",
       "        text-align: left;\n",
       "    }\n",
       "\n",
       "    .dataframe tbody tr th {\n",
       "        vertical-align: top;\n",
       "    }\n",
       "</style>\n",
       "<table border=\"1\" class=\"dataframe\">\n",
       "  <thead>\n",
       "    <tr style=\"text-align: right;\">\n",
       "      <th></th>\n",
       "      <th>sepal length (cm)</th>\n",
       "      <th>sepal width (cm)</th>\n",
       "      <th>petal length (cm)</th>\n",
       "      <th>petal width (cm)</th>\n",
       "      <th>target</th>\n",
       "    </tr>\n",
       "  </thead>\n",
       "  <tbody>\n",
       "    <tr>\n",
       "      <th>0</th>\n",
       "      <td>5.1</td>\n",
       "      <td>3.5</td>\n",
       "      <td>1.4</td>\n",
       "      <td>0.2</td>\n",
       "      <td>0</td>\n",
       "    </tr>\n",
       "    <tr>\n",
       "      <th>1</th>\n",
       "      <td>4.9</td>\n",
       "      <td>3.0</td>\n",
       "      <td>1.4</td>\n",
       "      <td>0.2</td>\n",
       "      <td>0</td>\n",
       "    </tr>\n",
       "    <tr>\n",
       "      <th>2</th>\n",
       "      <td>4.7</td>\n",
       "      <td>3.2</td>\n",
       "      <td>1.3</td>\n",
       "      <td>0.2</td>\n",
       "      <td>0</td>\n",
       "    </tr>\n",
       "    <tr>\n",
       "      <th>3</th>\n",
       "      <td>4.6</td>\n",
       "      <td>3.1</td>\n",
       "      <td>1.5</td>\n",
       "      <td>0.2</td>\n",
       "      <td>0</td>\n",
       "    </tr>\n",
       "    <tr>\n",
       "      <th>4</th>\n",
       "      <td>5.0</td>\n",
       "      <td>3.6</td>\n",
       "      <td>1.4</td>\n",
       "      <td>0.2</td>\n",
       "      <td>0</td>\n",
       "    </tr>\n",
       "  </tbody>\n",
       "</table>\n",
       "</div>"
      ],
      "text/plain": [
       "   sepal length (cm)  sepal width (cm)  petal length (cm)  petal width (cm)  \\\n",
       "0                5.1               3.5                1.4               0.2   \n",
       "1                4.9               3.0                1.4               0.2   \n",
       "2                4.7               3.2                1.3               0.2   \n",
       "3                4.6               3.1                1.5               0.2   \n",
       "4                5.0               3.6                1.4               0.2   \n",
       "\n",
       "   target  \n",
       "0       0  \n",
       "1       0  \n",
       "2       0  \n",
       "3       0  \n",
       "4       0  "
      ]
     },
     "execution_count": 45,
     "metadata": {},
     "output_type": "execute_result"
    }
   ],
   "source": [
    "iris = load_iris()\n",
    "data = pd.DataFrame(iris.data)\n",
    "data.columns = iris.feature_names\n",
    "data['target']  = iris.target\n",
    "\n",
    "print information_data(data)\n",
    "data.head()"
   ]
  },
  {
   "cell_type": "code",
   "execution_count": 46,
   "metadata": {
    "collapsed": true
   },
   "outputs": [],
   "source": [
    "Y = data.iloc[0:140, 4]\n",
    "Y_pred = data.iloc[140:150, 4]\n",
    "data.drop(['target'], axis = 1, inplace=True)\n",
    "X = data.iloc[0:140, :]\n",
    "X_pred = data.iloc[140:150, :]\n"
   ]
  },
  {
   "cell_type": "code",
   "execution_count": 47,
   "metadata": {
    "collapsed": true
   },
   "outputs": [],
   "source": [
    "scaler, new_data = fit_transform_with_function(X, StandardScaler(), 'True')"
   ]
  },
  {
   "cell_type": "code",
   "execution_count": 48,
   "metadata": {},
   "outputs": [
    {
     "data": {
      "text/html": [
       "<div>\n",
       "<style>\n",
       "    .dataframe thead tr:only-child th {\n",
       "        text-align: right;\n",
       "    }\n",
       "\n",
       "    .dataframe thead th {\n",
       "        text-align: left;\n",
       "    }\n",
       "\n",
       "    .dataframe tbody tr th {\n",
       "        vertical-align: top;\n",
       "    }\n",
       "</style>\n",
       "<table border=\"1\" class=\"dataframe\">\n",
       "  <thead>\n",
       "    <tr style=\"text-align: right;\">\n",
       "      <th></th>\n",
       "      <th>sepal length (cm)</th>\n",
       "      <th>sepal width (cm)</th>\n",
       "      <th>petal length (cm)</th>\n",
       "      <th>petal width (cm)</th>\n",
       "    </tr>\n",
       "  </thead>\n",
       "  <tbody>\n",
       "    <tr>\n",
       "      <th>0</th>\n",
       "      <td>-0.841395</td>\n",
       "      <td>1.004906</td>\n",
       "      <td>-1.272127</td>\n",
       "      <td>-1.260189</td>\n",
       "    </tr>\n",
       "    <tr>\n",
       "      <th>1</th>\n",
       "      <td>-1.081794</td>\n",
       "      <td>-0.126017</td>\n",
       "      <td>-1.272127</td>\n",
       "      <td>-1.260189</td>\n",
       "    </tr>\n",
       "    <tr>\n",
       "      <th>2</th>\n",
       "      <td>-1.322193</td>\n",
       "      <td>0.326352</td>\n",
       "      <td>-1.328756</td>\n",
       "      <td>-1.260189</td>\n",
       "    </tr>\n",
       "    <tr>\n",
       "      <th>3</th>\n",
       "      <td>-1.442392</td>\n",
       "      <td>0.100167</td>\n",
       "      <td>-1.215498</td>\n",
       "      <td>-1.260189</td>\n",
       "    </tr>\n",
       "    <tr>\n",
       "      <th>4</th>\n",
       "      <td>-0.961595</td>\n",
       "      <td>1.231090</td>\n",
       "      <td>-1.272127</td>\n",
       "      <td>-1.260189</td>\n",
       "    </tr>\n",
       "  </tbody>\n",
       "</table>\n",
       "</div>"
      ],
      "text/plain": [
       "   sepal length (cm)  sepal width (cm)  petal length (cm)  petal width (cm)\n",
       "0          -0.841395          1.004906          -1.272127         -1.260189\n",
       "1          -1.081794         -0.126017          -1.272127         -1.260189\n",
       "2          -1.322193          0.326352          -1.328756         -1.260189\n",
       "3          -1.442392          0.100167          -1.215498         -1.260189\n",
       "4          -0.961595          1.231090          -1.272127         -1.260189"
      ]
     },
     "execution_count": 48,
     "metadata": {},
     "output_type": "execute_result"
    }
   ],
   "source": [
    "new_data.head()"
   ]
  },
  {
   "cell_type": "code",
   "execution_count": 49,
   "metadata": {
    "collapsed": true
   },
   "outputs": [],
   "source": [
    "pca = PCA(n_components=2)\n",
    "pc = pca.fit_transform(new_data)\n",
    "pcDf = pd.DataFrame(data = pc, columns = ['PC 1', 'PC 2'])\n",
    "finalDf = pd.concat([pcDf, Y], axis = 1)\n",
    "#finalDf"
   ]
  },
  {
   "cell_type": "code",
   "execution_count": 50,
   "metadata": {},
   "outputs": [
    {
     "data": {
      "image/png": "[encoded data removed]",
      "text/plain": [
       "<matplotlib.figure.Figure at 0x102d3438>"
      ]
     },
     "execution_count": 50,
     "metadata": {},
     "output_type": "execute_result"
    }
   ],
   "source": [
    "def plot_PCA_groups (data, group):\n",
    "    fig = plt.figure(figsize = (8,8))\n",
    "    ax = fig.add_subplot(1,1,1) \n",
    "    ax.set_xlabel('Principal Component 1', fontsize = 15)\n",
    "    ax.set_ylabel('Principal Component 2', fontsize = 15)\n",
    "    ax.set_title('2 component PCA', fontsize = 20)\n",
    "    #targets = ['Iris-setosa', 'Iris-versicolor', 'Iris-virginica']\n",
    "\n",
    "    targets = [0 ,1 ,2, 3]\n",
    "    colors = ['r', 'g', 'b', 'y']\n",
    "    for target, color in zip(targets,colors):\n",
    "        indicesToKeep = data[group] == target\n",
    "        ax.scatter(data.loc[indicesToKeep, 'PC 1']\n",
    "                   , data.loc[indicesToKeep, 'PC 2']\n",
    "                   , c = color\n",
    "                   , s = 50)\n",
    "    ax.legend(targets)\n",
    "    ax.grid()\n",
    "    return fig\n",
    "\n",
    "plot_PCA_groups(finalDf, 'target')"
   ]
  },
  {
   "cell_type": "code",
   "execution_count": 52,
   "metadata": {},
   "outputs": [
    {
     "data": {
      "image/png": "[encoded data removed]",
      "text/plain": [
       "<matplotlib.figure.Figure at 0xf4cfb70>"
      ]
     },
     "metadata": {},
     "output_type": "display_data"
    },
    {
     "data": {
      "text/html": [
       "<div>\n",
       "<style>\n",
       "    .dataframe thead tr:only-child th {\n",
       "        text-align: right;\n",
       "    }\n",
       "\n",
       "    .dataframe thead th {\n",
       "        text-align: left;\n",
       "    }\n",
       "\n",
       "    .dataframe tbody tr th {\n",
       "        vertical-align: top;\n",
       "    }\n",
       "</style>\n",
       "<table border=\"1\" class=\"dataframe\">\n",
       "  <thead>\n",
       "    <tr style=\"text-align: right;\">\n",
       "      <th></th>\n",
       "      <th>score_wss</th>\n",
       "      <th>silhueta</th>\n",
       "    </tr>\n",
       "  </thead>\n",
       "  <tbody>\n",
       "    <tr>\n",
       "      <th>2</th>\n",
       "      <td>183.8</td>\n",
       "      <td>0.6124</td>\n",
       "    </tr>\n",
       "    <tr>\n",
       "      <th>3</th>\n",
       "      <td>109.7</td>\n",
       "      <td>0.5076</td>\n",
       "    </tr>\n",
       "    <tr>\n",
       "      <th>4</th>\n",
       "      <td>84.1</td>\n",
       "      <td>0.4406</td>\n",
       "    </tr>\n",
       "    <tr>\n",
       "      <th>5</th>\n",
       "      <td>61.7</td>\n",
       "      <td>0.4198</td>\n",
       "    </tr>\n",
       "    <tr>\n",
       "      <th>6</th>\n",
       "      <td>52.8</td>\n",
       "      <td>0.4292</td>\n",
       "    </tr>\n",
       "    <tr>\n",
       "      <th>7</th>\n",
       "      <td>44.8</td>\n",
       "      <td>0.4258</td>\n",
       "    </tr>\n",
       "    <tr>\n",
       "      <th>8</th>\n",
       "      <td>37.1</td>\n",
       "      <td>0.4207</td>\n",
       "    </tr>\n",
       "    <tr>\n",
       "      <th>9</th>\n",
       "      <td>30.1</td>\n",
       "      <td>0.4401</td>\n",
       "    </tr>\n",
       "  </tbody>\n",
       "</table>\n",
       "</div>"
      ],
      "text/plain": [
       "   score_wss  silhueta\n",
       "2      183.8    0.6124\n",
       "3      109.7    0.5076\n",
       "4       84.1    0.4406\n",
       "5       61.7    0.4198\n",
       "6       52.8    0.4292\n",
       "7       44.8    0.4258\n",
       "8       37.1    0.4207\n",
       "9       30.1    0.4401"
      ]
     },
     "execution_count": 52,
     "metadata": {},
     "output_type": "execute_result"
    }
   ],
   "source": [
    "base = pcDf\n",
    "k_values = range(2,10)\n",
    "first=True\n",
    "for k in k_values:\n",
    "    kmeans = KMeans(n_clusters=k)\n",
    "    cluster_labels = kmeans.fit_predict(base)\n",
    "    score_wss = round(kmeans.inertia_ ,1)\n",
    "    silhueta = round(silhouette_score(base, cluster_labels),4)\n",
    "    resultados_aux = {\n",
    "        'score_wss': score_wss,\n",
    "        'silhueta': silhueta\n",
    "    }\n",
    "    resultados_aux = pd.DataFrame(resultados_aux, index = [k])\n",
    "    if first == True:\n",
    "        resultados_final = resultados_aux\n",
    "        first = False\n",
    "    else:\n",
    "        resultados_final = pd.concat([resultados_final, resultados_aux],axis =0)\n",
    "        \n",
    "\n",
    "plt.plot(resultados_final.index,resultados_final.score_wss)\n",
    "plt.xlabel('Number of Clusters')\n",
    "plt.ylabel('Within Cluster Sum of Squares')\n",
    "plt.title('Elbow Curve')\n",
    "plt.show()\n",
    "\n",
    "resultados_final"
   ]
  },
  {
   "cell_type": "code",
   "execution_count": 53,
   "metadata": {
    "collapsed": true
   },
   "outputs": [],
   "source": [
    "kmeans_pca = KMeans(n_clusters=3)\n",
    "kmeans_sempca = KMeans(n_clusters=3)\n",
    "\n",
    "kmeans_sempca.fit(new_data)\n",
    "kmeans_pca.fit(pcDf)\n",
    "\n",
    "cluster_labels_sempca = kmeans_sempca.predict(new_data)\n",
    "cluster_labels_compca = kmeans_pca.predict(pcDf)\n",
    "\n",
    "#cluster_labels_compca = kmeans_compca.predict(pcDf)"
   ]
  },
  {
   "cell_type": "code",
   "execution_count": 58,
   "metadata": {},
   "outputs": [
    {
     "data": {
      "text/plain": [
       "array([1, 1, 1, 1, 1, 1, 1, 1, 1, 1, 1, 1, 1, 1, 1, 1, 1, 1, 1, 1, 1, 1, 1,\n",
       "       1, 1, 1, 1, 1, 1, 1, 1, 1, 1, 1, 1, 1, 1, 1, 1, 1, 1, 1, 1, 1, 1, 1,\n",
       "       1, 1, 1, 1, 2, 2, 2, 0, 0, 0, 2, 0, 2, 0, 0, 0, 0, 0, 0, 2, 0, 0, 0,\n",
       "       0, 2, 0, 0, 0, 0, 2, 2, 2, 0, 0, 0, 0, 0, 0, 0, 2, 2, 0, 0, 0, 0, 0,\n",
       "       0, 0, 0, 0, 0, 0, 0, 0, 2, 0, 2, 2, 2, 2, 0, 2, 2, 2, 2, 2, 2, 0, 2,\n",
       "       2, 2, 2, 2, 0, 2, 0, 2, 0, 2, 2, 0, 2, 2, 2, 2, 2, 2, 0, 0, 2, 2, 2,\n",
       "       2, 2])"
      ]
     },
     "execution_count": 58,
     "metadata": {},
     "output_type": "execute_result"
    }
   ],
   "source": [
    "cluster_labels_compca"
   ]
  },
  {
   "cell_type": "code",
   "execution_count": 59,
   "metadata": {},
   "outputs": [
    {
     "data": {
      "text/html": [
       "<div>\n",
       "<style>\n",
       "    .dataframe thead tr:only-child th {\n",
       "        text-align: right;\n",
       "    }\n",
       "\n",
       "    .dataframe thead th {\n",
       "        text-align: left;\n",
       "    }\n",
       "\n",
       "    .dataframe tbody tr th {\n",
       "        vertical-align: top;\n",
       "    }\n",
       "</style>\n",
       "<table border=\"1\" class=\"dataframe\">\n",
       "  <thead>\n",
       "    <tr style=\"text-align: right;\">\n",
       "      <th></th>\n",
       "      <th>PC 1</th>\n",
       "      <th>PC 2</th>\n",
       "      <th>target</th>\n",
       "      <th>prev_sempca</th>\n",
       "      <th>prev_compca</th>\n",
       "    </tr>\n",
       "  </thead>\n",
       "  <tbody>\n",
       "    <tr>\n",
       "      <th>0</th>\n",
       "      <td>-2.163730</td>\n",
       "      <td>0.477686</td>\n",
       "      <td>0</td>\n",
       "      <td>1</td>\n",
       "      <td>1</td>\n",
       "    </tr>\n",
       "    <tr>\n",
       "      <th>1</th>\n",
       "      <td>-1.974200</td>\n",
       "      <td>-0.653524</td>\n",
       "      <td>0</td>\n",
       "      <td>1</td>\n",
       "      <td>1</td>\n",
       "    </tr>\n",
       "    <tr>\n",
       "      <th>2</th>\n",
       "      <td>-2.256933</td>\n",
       "      <td>-0.335834</td>\n",
       "      <td>0</td>\n",
       "      <td>1</td>\n",
       "      <td>1</td>\n",
       "    </tr>\n",
       "    <tr>\n",
       "      <th>3</th>\n",
       "      <td>-2.190676</td>\n",
       "      <td>-0.587235</td>\n",
       "      <td>0</td>\n",
       "      <td>1</td>\n",
       "      <td>1</td>\n",
       "    </tr>\n",
       "    <tr>\n",
       "      <th>4</th>\n",
       "      <td>-2.288683</td>\n",
       "      <td>0.637372</td>\n",
       "      <td>0</td>\n",
       "      <td>1</td>\n",
       "      <td>1</td>\n",
       "    </tr>\n",
       "    <tr>\n",
       "      <th>5</th>\n",
       "      <td>-1.976561</td>\n",
       "      <td>1.469842</td>\n",
       "      <td>0</td>\n",
       "      <td>1</td>\n",
       "      <td>1</td>\n",
       "    </tr>\n",
       "    <tr>\n",
       "      <th>6</th>\n",
       "      <td>-2.335202</td>\n",
       "      <td>0.040553</td>\n",
       "      <td>0</td>\n",
       "      <td>1</td>\n",
       "      <td>1</td>\n",
       "    </tr>\n",
       "    <tr>\n",
       "      <th>7</th>\n",
       "      <td>-2.130301</td>\n",
       "      <td>0.224603</td>\n",
       "      <td>0</td>\n",
       "      <td>1</td>\n",
       "      <td>1</td>\n",
       "    </tr>\n",
       "    <tr>\n",
       "      <th>8</th>\n",
       "      <td>-2.222303</td>\n",
       "      <td>-1.098450</td>\n",
       "      <td>0</td>\n",
       "      <td>1</td>\n",
       "      <td>1</td>\n",
       "    </tr>\n",
       "    <tr>\n",
       "      <th>9</th>\n",
       "      <td>-2.080779</td>\n",
       "      <td>-0.452408</td>\n",
       "      <td>0</td>\n",
       "      <td>1</td>\n",
       "      <td>1</td>\n",
       "    </tr>\n",
       "    <tr>\n",
       "      <th>10</th>\n",
       "      <td>-2.069927</td>\n",
       "      <td>1.036440</td>\n",
       "      <td>0</td>\n",
       "      <td>1</td>\n",
       "      <td>1</td>\n",
       "    </tr>\n",
       "    <tr>\n",
       "      <th>11</th>\n",
       "      <td>-2.221825</td>\n",
       "      <td>0.131205</td>\n",
       "      <td>0</td>\n",
       "      <td>1</td>\n",
       "      <td>1</td>\n",
       "    </tr>\n",
       "    <tr>\n",
       "      <th>12</th>\n",
       "      <td>-2.113007</td>\n",
       "      <td>-0.708856</td>\n",
       "      <td>0</td>\n",
       "      <td>1</td>\n",
       "      <td>1</td>\n",
       "    </tr>\n",
       "    <tr>\n",
       "      <th>13</th>\n",
       "      <td>-2.522372</td>\n",
       "      <td>-0.951604</td>\n",
       "      <td>0</td>\n",
       "      <td>1</td>\n",
       "      <td>1</td>\n",
       "    </tr>\n",
       "    <tr>\n",
       "      <th>14</th>\n",
       "      <td>-2.108038</td>\n",
       "      <td>1.843231</td>\n",
       "      <td>0</td>\n",
       "      <td>1</td>\n",
       "      <td>1</td>\n",
       "    </tr>\n",
       "    <tr>\n",
       "      <th>15</th>\n",
       "      <td>-2.169572</td>\n",
       "      <td>2.645227</td>\n",
       "      <td>0</td>\n",
       "      <td>1</td>\n",
       "      <td>1</td>\n",
       "    </tr>\n",
       "    <tr>\n",
       "      <th>16</th>\n",
       "      <td>-2.107875</td>\n",
       "      <td>1.463112</td>\n",
       "      <td>0</td>\n",
       "      <td>1</td>\n",
       "      <td>1</td>\n",
       "    </tr>\n",
       "    <tr>\n",
       "      <th>17</th>\n",
       "      <td>-2.087099</td>\n",
       "      <td>0.485478</td>\n",
       "      <td>0</td>\n",
       "      <td>1</td>\n",
       "      <td>1</td>\n",
       "    </tr>\n",
       "    <tr>\n",
       "      <th>18</th>\n",
       "      <td>-1.803888</td>\n",
       "      <td>1.397444</td>\n",
       "      <td>0</td>\n",
       "      <td>1</td>\n",
       "      <td>1</td>\n",
       "    </tr>\n",
       "    <tr>\n",
       "      <th>19</th>\n",
       "      <td>-2.242600</td>\n",
       "      <td>1.108839</td>\n",
       "      <td>0</td>\n",
       "      <td>1</td>\n",
       "      <td>1</td>\n",
       "    </tr>\n",
       "    <tr>\n",
       "      <th>20</th>\n",
       "      <td>-1.815941</td>\n",
       "      <td>0.418127</td>\n",
       "      <td>0</td>\n",
       "      <td>1</td>\n",
       "      <td>1</td>\n",
       "    </tr>\n",
       "    <tr>\n",
       "      <th>21</th>\n",
       "      <td>-2.103192</td>\n",
       "      <td>0.909405</td>\n",
       "      <td>0</td>\n",
       "      <td>1</td>\n",
       "      <td>1</td>\n",
       "    </tr>\n",
       "    <tr>\n",
       "      <th>22</th>\n",
       "      <td>-2.668700</td>\n",
       "      <td>0.440482</td>\n",
       "      <td>0</td>\n",
       "      <td>1</td>\n",
       "      <td>1</td>\n",
       "    </tr>\n",
       "    <tr>\n",
       "      <th>23</th>\n",
       "      <td>-1.709798</td>\n",
       "      <td>0.091659</td>\n",
       "      <td>0</td>\n",
       "      <td>1</td>\n",
       "      <td>1</td>\n",
       "    </tr>\n",
       "    <tr>\n",
       "      <th>24</th>\n",
       "      <td>-2.123339</td>\n",
       "      <td>0.136252</td>\n",
       "      <td>0</td>\n",
       "      <td>1</td>\n",
       "      <td>1</td>\n",
       "    </tr>\n",
       "    <tr>\n",
       "      <th>25</th>\n",
       "      <td>-1.846367</td>\n",
       "      <td>-0.602619</td>\n",
       "      <td>0</td>\n",
       "      <td>1</td>\n",
       "      <td>1</td>\n",
       "    </tr>\n",
       "    <tr>\n",
       "      <th>26</th>\n",
       "      <td>-1.944210</td>\n",
       "      <td>0.241870</td>\n",
       "      <td>0</td>\n",
       "      <td>1</td>\n",
       "      <td>1</td>\n",
       "    </tr>\n",
       "    <tr>\n",
       "      <th>27</th>\n",
       "      <td>-2.068726</td>\n",
       "      <td>0.526908</td>\n",
       "      <td>0</td>\n",
       "      <td>1</td>\n",
       "      <td>1</td>\n",
       "    </tr>\n",
       "    <tr>\n",
       "      <th>28</th>\n",
       "      <td>-2.038778</td>\n",
       "      <td>0.318000</td>\n",
       "      <td>0</td>\n",
       "      <td>1</td>\n",
       "      <td>1</td>\n",
       "    </tr>\n",
       "    <tr>\n",
       "      <th>29</th>\n",
       "      <td>-2.158448</td>\n",
       "      <td>-0.330787</td>\n",
       "      <td>0</td>\n",
       "      <td>1</td>\n",
       "      <td>1</td>\n",
       "    </tr>\n",
       "    <tr>\n",
       "      <th>...</th>\n",
       "      <td>...</td>\n",
       "      <td>...</td>\n",
       "      <td>...</td>\n",
       "      <td>...</td>\n",
       "      <td>...</td>\n",
       "    </tr>\n",
       "    <tr>\n",
       "      <th>110</th>\n",
       "      <td>1.489079</td>\n",
       "      <td>0.724083</td>\n",
       "      <td>2</td>\n",
       "      <td>0</td>\n",
       "      <td>2</td>\n",
       "    </tr>\n",
       "    <tr>\n",
       "      <th>111</th>\n",
       "      <td>1.729811</td>\n",
       "      <td>-0.364014</td>\n",
       "      <td>2</td>\n",
       "      <td>0</td>\n",
       "      <td>2</td>\n",
       "    </tr>\n",
       "    <tr>\n",
       "      <th>112</th>\n",
       "      <td>2.009105</td>\n",
       "      <td>0.466774</td>\n",
       "      <td>2</td>\n",
       "      <td>0</td>\n",
       "      <td>2</td>\n",
       "    </tr>\n",
       "    <tr>\n",
       "      <th>113</th>\n",
       "      <td>1.398278</td>\n",
       "      <td>-1.108501</td>\n",
       "      <td>2</td>\n",
       "      <td>2</td>\n",
       "      <td>0</td>\n",
       "    </tr>\n",
       "    <tr>\n",
       "      <th>114</th>\n",
       "      <td>1.611478</td>\n",
       "      <td>-0.406431</td>\n",
       "      <td>2</td>\n",
       "      <td>2</td>\n",
       "      <td>2</td>\n",
       "    </tr>\n",
       "    <tr>\n",
       "      <th>115</th>\n",
       "      <td>1.722454</td>\n",
       "      <td>0.703286</td>\n",
       "      <td>2</td>\n",
       "      <td>0</td>\n",
       "      <td>2</td>\n",
       "    </tr>\n",
       "    <tr>\n",
       "      <th>116</th>\n",
       "      <td>1.592683</td>\n",
       "      <td>0.300776</td>\n",
       "      <td>2</td>\n",
       "      <td>0</td>\n",
       "      <td>2</td>\n",
       "    </tr>\n",
       "    <tr>\n",
       "      <th>117</th>\n",
       "      <td>2.537049</td>\n",
       "      <td>2.580423</td>\n",
       "      <td>2</td>\n",
       "      <td>0</td>\n",
       "      <td>2</td>\n",
       "    </tr>\n",
       "    <tr>\n",
       "      <th>118</th>\n",
       "      <td>3.432656</td>\n",
       "      <td>0.104869</td>\n",
       "      <td>2</td>\n",
       "      <td>0</td>\n",
       "      <td>2</td>\n",
       "    </tr>\n",
       "    <tr>\n",
       "      <th>119</th>\n",
       "      <td>1.389979</td>\n",
       "      <td>-1.626521</td>\n",
       "      <td>2</td>\n",
       "      <td>2</td>\n",
       "      <td>0</td>\n",
       "    </tr>\n",
       "    <tr>\n",
       "      <th>120</th>\n",
       "      <td>2.164647</td>\n",
       "      <td>0.947715</td>\n",
       "      <td>2</td>\n",
       "      <td>0</td>\n",
       "      <td>2</td>\n",
       "    </tr>\n",
       "    <tr>\n",
       "      <th>121</th>\n",
       "      <td>1.114945</td>\n",
       "      <td>-0.536045</td>\n",
       "      <td>2</td>\n",
       "      <td>2</td>\n",
       "      <td>0</td>\n",
       "    </tr>\n",
       "    <tr>\n",
       "      <th>122</th>\n",
       "      <td>3.011552</td>\n",
       "      <td>0.492578</td>\n",
       "      <td>2</td>\n",
       "      <td>0</td>\n",
       "      <td>2</td>\n",
       "    </tr>\n",
       "    <tr>\n",
       "      <th>123</th>\n",
       "      <td>1.459690</td>\n",
       "      <td>-0.426076</td>\n",
       "      <td>2</td>\n",
       "      <td>2</td>\n",
       "      <td>0</td>\n",
       "    </tr>\n",
       "    <tr>\n",
       "      <th>124</th>\n",
       "      <td>1.824256</td>\n",
       "      <td>1.044276</td>\n",
       "      <td>2</td>\n",
       "      <td>0</td>\n",
       "      <td>2</td>\n",
       "    </tr>\n",
       "    <tr>\n",
       "      <th>125</th>\n",
       "      <td>2.066504</td>\n",
       "      <td>1.056420</td>\n",
       "      <td>2</td>\n",
       "      <td>0</td>\n",
       "      <td>2</td>\n",
       "    </tr>\n",
       "    <tr>\n",
       "      <th>126</th>\n",
       "      <td>1.301909</td>\n",
       "      <td>-0.268073</td>\n",
       "      <td>2</td>\n",
       "      <td>2</td>\n",
       "      <td>0</td>\n",
       "    </tr>\n",
       "    <tr>\n",
       "      <th>127</th>\n",
       "      <td>1.147009</td>\n",
       "      <td>0.100521</td>\n",
       "      <td>2</td>\n",
       "      <td>0</td>\n",
       "      <td>2</td>\n",
       "    </tr>\n",
       "    <tr>\n",
       "      <th>128</th>\n",
       "      <td>1.918783</td>\n",
       "      <td>-0.136156</td>\n",
       "      <td>2</td>\n",
       "      <td>0</td>\n",
       "      <td>2</td>\n",
       "    </tr>\n",
       "    <tr>\n",
       "      <th>129</th>\n",
       "      <td>1.973138</td>\n",
       "      <td>0.623018</td>\n",
       "      <td>2</td>\n",
       "      <td>0</td>\n",
       "      <td>2</td>\n",
       "    </tr>\n",
       "    <tr>\n",
       "      <th>130</th>\n",
       "      <td>2.551422</td>\n",
       "      <td>0.332071</td>\n",
       "      <td>2</td>\n",
       "      <td>0</td>\n",
       "      <td>2</td>\n",
       "    </tr>\n",
       "    <tr>\n",
       "      <th>131</th>\n",
       "      <td>2.409653</td>\n",
       "      <td>2.654871</td>\n",
       "      <td>2</td>\n",
       "      <td>0</td>\n",
       "      <td>2</td>\n",
       "    </tr>\n",
       "    <tr>\n",
       "      <th>132</th>\n",
       "      <td>1.995414</td>\n",
       "      <td>-0.128363</td>\n",
       "      <td>2</td>\n",
       "      <td>0</td>\n",
       "      <td>2</td>\n",
       "    </tr>\n",
       "    <tr>\n",
       "      <th>133</th>\n",
       "      <td>1.232677</td>\n",
       "      <td>-0.238863</td>\n",
       "      <td>2</td>\n",
       "      <td>2</td>\n",
       "      <td>0</td>\n",
       "    </tr>\n",
       "    <tr>\n",
       "      <th>134</th>\n",
       "      <td>1.321389</td>\n",
       "      <td>-0.747775</td>\n",
       "      <td>2</td>\n",
       "      <td>2</td>\n",
       "      <td>0</td>\n",
       "    </tr>\n",
       "    <tr>\n",
       "      <th>135</th>\n",
       "      <td>2.918922</td>\n",
       "      <td>0.920313</td>\n",
       "      <td>2</td>\n",
       "      <td>0</td>\n",
       "      <td>2</td>\n",
       "    </tr>\n",
       "    <tr>\n",
       "      <th>136</th>\n",
       "      <td>1.709842</td>\n",
       "      <td>1.083037</td>\n",
       "      <td>2</td>\n",
       "      <td>0</td>\n",
       "      <td>2</td>\n",
       "    </tr>\n",
       "    <tr>\n",
       "      <th>137</th>\n",
       "      <td>1.467731</td>\n",
       "      <td>0.460462</td>\n",
       "      <td>2</td>\n",
       "      <td>0</td>\n",
       "      <td>2</td>\n",
       "    </tr>\n",
       "    <tr>\n",
       "      <th>138</th>\n",
       "      <td>1.052004</td>\n",
       "      <td>0.051299</td>\n",
       "      <td>2</td>\n",
       "      <td>2</td>\n",
       "      <td>2</td>\n",
       "    </tr>\n",
       "    <tr>\n",
       "      <th>139</th>\n",
       "      <td>1.975676</td>\n",
       "      <td>0.719857</td>\n",
       "      <td>2</td>\n",
       "      <td>0</td>\n",
       "      <td>2</td>\n",
       "    </tr>\n",
       "  </tbody>\n",
       "</table>\n",
       "<p>140 rows × 5 columns</p>\n",
       "</div>"
      ],
      "text/plain": [
       "         PC 1      PC 2  target  prev_sempca  prev_compca\n",
       "0   -2.163730  0.477686       0            1            1\n",
       "1   -1.974200 -0.653524       0            1            1\n",
       "2   -2.256933 -0.335834       0            1            1\n",
       "3   -2.190676 -0.587235       0            1            1\n",
       "4   -2.288683  0.637372       0            1            1\n",
       "5   -1.976561  1.469842       0            1            1\n",
       "6   -2.335202  0.040553       0            1            1\n",
       "7   -2.130301  0.224603       0            1            1\n",
       "8   -2.222303 -1.098450       0            1            1\n",
       "9   -2.080779 -0.452408       0            1            1\n",
       "10  -2.069927  1.036440       0            1            1\n",
       "11  -2.221825  0.131205       0            1            1\n",
       "12  -2.113007 -0.708856       0            1            1\n",
       "13  -2.522372 -0.951604       0            1            1\n",
       "14  -2.108038  1.843231       0            1            1\n",
       "15  -2.169572  2.645227       0            1            1\n",
       "16  -2.107875  1.463112       0            1            1\n",
       "17  -2.087099  0.485478       0            1            1\n",
       "18  -1.803888  1.397444       0            1            1\n",
       "19  -2.242600  1.108839       0            1            1\n",
       "20  -1.815941  0.418127       0            1            1\n",
       "21  -2.103192  0.909405       0            1            1\n",
       "22  -2.668700  0.440482       0            1            1\n",
       "23  -1.709798  0.091659       0            1            1\n",
       "24  -2.123339  0.136252       0            1            1\n",
       "25  -1.846367 -0.602619       0            1            1\n",
       "26  -1.944210  0.241870       0            1            1\n",
       "27  -2.068726  0.526908       0            1            1\n",
       "28  -2.038778  0.318000       0            1            1\n",
       "29  -2.158448 -0.330787       0            1            1\n",
       "..        ...       ...     ...          ...          ...\n",
       "110  1.489079  0.724083       2            0            2\n",
       "111  1.729811 -0.364014       2            0            2\n",
       "112  2.009105  0.466774       2            0            2\n",
       "113  1.398278 -1.108501       2            2            0\n",
       "114  1.611478 -0.406431       2            2            2\n",
       "115  1.722454  0.703286       2            0            2\n",
       "116  1.592683  0.300776       2            0            2\n",
       "117  2.537049  2.580423       2            0            2\n",
       "118  3.432656  0.104869       2            0            2\n",
       "119  1.389979 -1.626521       2            2            0\n",
       "120  2.164647  0.947715       2            0            2\n",
       "121  1.114945 -0.536045       2            2            0\n",
       "122  3.011552  0.492578       2            0            2\n",
       "123  1.459690 -0.426076       2            2            0\n",
       "124  1.824256  1.044276       2            0            2\n",
       "125  2.066504  1.056420       2            0            2\n",
       "126  1.301909 -0.268073       2            2            0\n",
       "127  1.147009  0.100521       2            0            2\n",
       "128  1.918783 -0.136156       2            0            2\n",
       "129  1.973138  0.623018       2            0            2\n",
       "130  2.551422  0.332071       2            0            2\n",
       "131  2.409653  2.654871       2            0            2\n",
       "132  1.995414 -0.128363       2            0            2\n",
       "133  1.232677 -0.238863       2            2            0\n",
       "134  1.321389 -0.747775       2            2            0\n",
       "135  2.918922  0.920313       2            0            2\n",
       "136  1.709842  1.083037       2            0            2\n",
       "137  1.467731  0.460462       2            0            2\n",
       "138  1.052004  0.051299       2            2            2\n",
       "139  1.975676  0.719857       2            0            2\n",
       "\n",
       "[140 rows x 5 columns]"
      ]
     },
     "execution_count": 59,
     "metadata": {},
     "output_type": "execute_result"
    }
   ],
   "source": [
    "# tabela fim\n",
    "previsoes = pd.concat([finalDf, pd.DataFrame(cluster_labels_sempca), pd.DataFrame(cluster_labels_compca)], axis = 1)\n",
    "previsoes.columns = ['PC 1', 'PC 2', 'target', 'prev_sempca', 'prev_compca']\n",
    "previsoes\n",
    "#pd.crosstab(previsoes.target, previsoes.prev_sempca)"
   ]
  },
  {
   "cell_type": "code",
   "execution_count": 60,
   "metadata": {},
   "outputs": [
    {
     "data": {
      "image/png": "[encoded data removed]",
      "text/plain": [
       "<matplotlib.figure.Figure at 0x102d31d0>"
      ]
     },
     "execution_count": 60,
     "metadata": {},
     "output_type": "execute_result"
    }
   ],
   "source": [
    "plot_PCA_groups(previsoes, 'target')"
   ]
  },
  {
   "cell_type": "code",
   "execution_count": 63,
   "metadata": {},
   "outputs": [
    {
     "data": {
      "image/png": "[encoded data removed]",
      "text/plain": [
       "<matplotlib.figure.Figure at 0x10deea58>"
      ]
     },
     "execution_count": 63,
     "metadata": {},
     "output_type": "execute_result"
    }
   ],
   "source": [
    "plot_PCA_groups(previsoes, 'prev_compca')"
   ]
  },
  {
   "cell_type": "markdown",
   "metadata": {},
   "source": [
    "#### Predição para os casos de PCA"
   ]
  },
  {
   "cell_type": "markdown",
   "metadata": {},
   "source": [
    "usar scaler "
   ]
  },
  {
   "cell_type": "code",
   "execution_count": 64,
   "metadata": {
    "collapsed": true
   },
   "outputs": [],
   "source": [
    "new_data_pred = transform_with_function(X_pred, scaler, 'True')"
   ]
  },
  {
   "cell_type": "code",
   "execution_count": 65,
   "metadata": {},
   "outputs": [
    {
     "data": {
      "text/plain": [
       "array([[ 2.14687477,  0.65151938],\n",
       "       [ 2.03045287,  0.7303947 ],\n",
       "       [ 1.29109863, -0.65261902],\n",
       "       [ 2.16812842,  0.90354015],\n",
       "       [ 2.13078156,  1.0754462 ],\n",
       "       [ 2.00170601,  0.42977119],\n",
       "       [ 1.69470269, -0.83105335],\n",
       "       [ 1.64746037,  0.31131373],\n",
       "       [ 1.50537747,  1.02433985],\n",
       "       [ 1.08831383,  0.00880632]])"
      ]
     },
     "execution_count": 65,
     "metadata": {},
     "output_type": "execute_result"
    }
   ],
   "source": [
    "pred_clusters_extra = pca.transform(new_data_pred)\n",
    "pred_clusters_extra"
   ]
  },
  {
   "cell_type": "code",
   "execution_count": 66,
   "metadata": {
    "collapsed": true
   },
   "outputs": [],
   "source": [
    "pcDf_pred = pd.DataFrame(data = pred_clusters_extra, columns = ['PC 1', 'PC 2'])"
   ]
  },
  {
   "cell_type": "code",
   "execution_count": 67,
   "metadata": {},
   "outputs": [
    {
     "data": {
      "text/plain": [
       "array([2, 2, 0, 2, 2, 2, 0, 2, 2, 2])"
      ]
     },
     "execution_count": 67,
     "metadata": {},
     "output_type": "execute_result"
    }
   ],
   "source": [
    "clusteres_pred = kmeans_pca.predict(pcDf_pred)\n",
    "clusteres_pred"
   ]
  },
  {
   "cell_type": "code",
   "execution_count": 69,
   "metadata": {},
   "outputs": [
    {
     "data": {
      "text/html": [
       "<div>\n",
       "<style>\n",
       "    .dataframe thead tr:only-child th {\n",
       "        text-align: right;\n",
       "    }\n",
       "\n",
       "    .dataframe thead th {\n",
       "        text-align: left;\n",
       "    }\n",
       "\n",
       "    .dataframe tbody tr th {\n",
       "        vertical-align: top;\n",
       "    }\n",
       "</style>\n",
       "<table border=\"1\" class=\"dataframe\">\n",
       "  <thead>\n",
       "    <tr style=\"text-align: right;\">\n",
       "      <th></th>\n",
       "      <th>PC 1</th>\n",
       "      <th>PC 2</th>\n",
       "      <th>target</th>\n",
       "      <th>pred</th>\n",
       "    </tr>\n",
       "  </thead>\n",
       "  <tbody>\n",
       "    <tr>\n",
       "      <th>0</th>\n",
       "      <td>2.146875</td>\n",
       "      <td>0.651519</td>\n",
       "      <td>2</td>\n",
       "      <td>2</td>\n",
       "    </tr>\n",
       "    <tr>\n",
       "      <th>1</th>\n",
       "      <td>2.030453</td>\n",
       "      <td>0.730395</td>\n",
       "      <td>2</td>\n",
       "      <td>2</td>\n",
       "    </tr>\n",
       "    <tr>\n",
       "      <th>2</th>\n",
       "      <td>1.291099</td>\n",
       "      <td>-0.652619</td>\n",
       "      <td>2</td>\n",
       "      <td>0</td>\n",
       "    </tr>\n",
       "    <tr>\n",
       "      <th>3</th>\n",
       "      <td>2.168128</td>\n",
       "      <td>0.903540</td>\n",
       "      <td>2</td>\n",
       "      <td>2</td>\n",
       "    </tr>\n",
       "    <tr>\n",
       "      <th>4</th>\n",
       "      <td>2.130782</td>\n",
       "      <td>1.075446</td>\n",
       "      <td>2</td>\n",
       "      <td>2</td>\n",
       "    </tr>\n",
       "    <tr>\n",
       "      <th>5</th>\n",
       "      <td>2.001706</td>\n",
       "      <td>0.429771</td>\n",
       "      <td>2</td>\n",
       "      <td>2</td>\n",
       "    </tr>\n",
       "    <tr>\n",
       "      <th>6</th>\n",
       "      <td>1.694703</td>\n",
       "      <td>-0.831053</td>\n",
       "      <td>2</td>\n",
       "      <td>0</td>\n",
       "    </tr>\n",
       "    <tr>\n",
       "      <th>7</th>\n",
       "      <td>1.647460</td>\n",
       "      <td>0.311314</td>\n",
       "      <td>2</td>\n",
       "      <td>2</td>\n",
       "    </tr>\n",
       "    <tr>\n",
       "      <th>8</th>\n",
       "      <td>1.505377</td>\n",
       "      <td>1.024340</td>\n",
       "      <td>2</td>\n",
       "      <td>2</td>\n",
       "    </tr>\n",
       "    <tr>\n",
       "      <th>9</th>\n",
       "      <td>1.088314</td>\n",
       "      <td>0.008806</td>\n",
       "      <td>2</td>\n",
       "      <td>2</td>\n",
       "    </tr>\n",
       "  </tbody>\n",
       "</table>\n",
       "</div>"
      ],
      "text/plain": [
       "       PC 1      PC 2  target  pred\n",
       "0  2.146875  0.651519       2     2\n",
       "1  2.030453  0.730395       2     2\n",
       "2  1.291099 -0.652619       2     0\n",
       "3  2.168128  0.903540       2     2\n",
       "4  2.130782  1.075446       2     2\n",
       "5  2.001706  0.429771       2     2\n",
       "6  1.694703 -0.831053       2     0\n",
       "7  1.647460  0.311314       2     2\n",
       "8  1.505377  1.024340       2     2\n",
       "9  1.088314  0.008806       2     2"
      ]
     },
     "execution_count": 69,
     "metadata": {},
     "output_type": "execute_result"
    }
   ],
   "source": [
    "pred_total = pd.concat([pcDf_pred, pd.DataFrame(Y_pred).reset_index(drop=True), pd.DataFrame (clusteres_pred, columns=['pred'])], axis = 1)\n",
    "pred_total"
   ]
  }
 ],
 "metadata": {
  "kernelspec": {
   "display_name": "Python 2",
   "language": "python",
   "name": "python2"
  },
  "language_info": {
   "codemirror_mode": {
    "name": "ipython",
    "version": 2
   },
   "file_extension": ".py",
   "mimetype": "text/x-python",
   "name": "python",
   "nbconvert_exporter": "python",
   "pygments_lexer": "ipython2",
   "version": "2.7.13"
  }
 },
 "nbformat": 4,
 "nbformat_minor": 2
}
